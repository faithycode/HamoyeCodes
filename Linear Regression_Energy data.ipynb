{
 "cells": [
  {
   "cell_type": "code",
   "execution_count": 7,
   "id": "60ccc3fa",
   "metadata": {},
   "outputs": [],
   "source": [
    "import pandas as pd\n",
    "import numpy as np\n",
    "import seaborn as sns\n",
    "from sklearn.model_selection import train_test_split\n",
    "from sklearn.preprocessing import MinMaxScaler\n",
    "from sklearn.linear_model import (LinearRegression, \n",
    "                                  Ridge, \n",
    "                                  Lasso)\n",
    "from sklearn.metrics import (r2_score, \n",
    "                             mean_absolute_error, \n",
    "                             mean_squared_error)"
   ]
  },
  {
   "cell_type": "code",
   "execution_count": 2,
   "id": "eec92204",
   "metadata": {},
   "outputs": [],
   "source": [
    "df = pd.read_csv('C:/Users/FAITH/Downloads/energydata_complete.csv')"
   ]
  },
  {
   "cell_type": "code",
   "execution_count": 3,
   "id": "13fee05c",
   "metadata": {},
   "outputs": [],
   "source": [
    "del df['date']"
   ]
  },
  {
   "cell_type": "code",
   "execution_count": 9,
   "id": "17b447d8",
   "metadata": {},
   "outputs": [],
   "source": [
    "scaler = MinMaxScaler()\n",
    "normalised_df = pd.DataFrame(scaler.fit_transform(df.drop(columns=[ 'lights'])), \n",
    "                             columns=df.drop(columns=[ 'lights']).columns)\n",
    "features_df = normalised_df.drop(columns=['Appliances'])\n",
    "energy_target = normalised_df.Appliances\n",
    "X_train, X_test, y_train, y_test = train_test_split(features_df, energy_target, test_size=.3, random_state=42)"
   ]
  },
  {
   "cell_type": "code",
   "execution_count": 10,
   "id": "be498b3d",
   "metadata": {},
   "outputs": [
    {
     "name": "stdout",
     "output_type": "stream",
     "text": [
      "r^2 score: 0.64\n"
     ]
    }
   ],
   "source": [
    "lin_reg = LinearRegression()\n",
    "lin_reg.fit(X_train[['T2']], X_train.T6)\n",
    "T6_pred = lin_reg.predict(X_test[['T2']])\n",
    "print(f'r^2 score: {round(r2_score(X_test.T6, T6_pred), 2)}')"
   ]
  },
  {
   "cell_type": "code",
   "execution_count": 11,
   "id": "ce33a74e",
   "metadata": {},
   "outputs": [
    {
     "name": "stdout",
     "output_type": "stream",
     "text": [
      "MAE: 0.08\n"
     ]
    }
   ],
   "source": [
    "print(f'MAE: {round(mean_absolute_error(X_test.T6, T6_pred), 2)}')"
   ]
  },
  {
   "cell_type": "code",
   "execution_count": 12,
   "id": "48b2990c",
   "metadata": {},
   "outputs": [
    {
     "name": "stdout",
     "output_type": "stream",
     "text": [
      "Residual Sum of Squares: 66.12\n"
     ]
    }
   ],
   "source": [
    "print(f'Residual Sum of Squares: {round(np.sum(np.square(X_test.T6 - T6_pred)), 2)}')"
   ]
  },
  {
   "cell_type": "code",
   "execution_count": 13,
   "id": "18cfd1de",
   "metadata": {},
   "outputs": [
    {
     "name": "stdout",
     "output_type": "stream",
     "text": [
      "Root Mean Squared Error: 0.106\n"
     ]
    }
   ],
   "source": [
    "print(f'Root Mean Squared Error: {round(np.sqrt(mean_squared_error(X_test.T6, T6_pred)), 3)}')"
   ]
  },
  {
   "cell_type": "code",
   "execution_count": 16,
   "id": "e30e1514",
   "metadata": {},
   "outputs": [
    {
     "data": {
      "text/plain": [
       "Windspeed        14.000000\n",
       "Tdewpoint        15.500000\n",
       "T9               24.500000\n",
       "T5               25.795000\n",
       "T7               26.000000\n",
       "T_out            26.100000\n",
       "T4               26.200000\n",
       "T1               26.260000\n",
       "T8               27.230000\n",
       "T6               28.290000\n",
       "T3               29.236000\n",
       "T2               29.856667\n",
       "rv1              49.996530\n",
       "rv2              49.996530\n",
       "RH_3             50.163333\n",
       "RH_4             51.090000\n",
       "RH_7             51.400000\n",
       "RH_9             53.326667\n",
       "RH_2             56.026667\n",
       "RH_8             58.780000\n",
       "RH_1             63.360000\n",
       "Visibility       66.000000\n",
       "RH_5             96.321667\n",
       "RH_6             99.900000\n",
       "RH_out          100.000000\n",
       "Press_mm_hg     772.300000\n",
       "Appliances     1080.000000\n",
       "dtype: float64"
      ]
     },
     "execution_count": 16,
     "metadata": {},
     "output_type": "execute_result"
    }
   ],
   "source": [
    "df.drop(columns=['lights']).max().sort_values()"
   ]
  },
  {
   "cell_type": "code",
   "execution_count": 18,
   "id": "d48d95d1",
   "metadata": {},
   "outputs": [
    {
     "data": {
      "text/plain": [
       "Tdewpoint       -6.600000\n",
       "T6              -6.065000\n",
       "T_out           -5.000000\n",
       "Windspeed        0.000000\n",
       "rv2              0.005322\n",
       "rv1              0.005322\n",
       "Visibility       1.000000\n",
       "RH_6             1.000000\n",
       "Appliances      10.000000\n",
       "T9              14.890000\n",
       "T4              15.100000\n",
       "T5              15.330000\n",
       "T7              15.390000\n",
       "T2              16.100000\n",
       "T8              16.306667\n",
       "T1              16.790000\n",
       "T3              17.200000\n",
       "RH_2            20.463333\n",
       "RH_7            23.200000\n",
       "RH_out          24.000000\n",
       "RH_1            27.023333\n",
       "RH_4            27.660000\n",
       "RH_3            28.766667\n",
       "RH_9            29.166667\n",
       "RH_8            29.600000\n",
       "RH_5            29.815000\n",
       "Press_mm_hg    729.300000\n",
       "dtype: float64"
      ]
     },
     "execution_count": 18,
     "metadata": {},
     "output_type": "execute_result"
    }
   ],
   "source": [
    "df.drop(columns=['lights']).min().sort_values()"
   ]
  },
  {
   "cell_type": "code",
   "execution_count": 19,
   "id": "533ae46b",
   "metadata": {},
   "outputs": [],
   "source": [
    "def get_weights_df(model, feat, col_name):\n",
    "    #this function returns the weight of every feature\n",
    "    weights = pd.Series(model.coef_, feat.columns).sort_values()\n",
    "    weights_df = pd.DataFrame(weights).reset_index()\n",
    "    weights_df.columns = ['Features', col_name]\n",
    "    weights_df[col_name].round(3)\n",
    "    return weights_df"
   ]
  },
  {
   "cell_type": "code",
   "execution_count": 20,
   "id": "b27fe918",
   "metadata": {},
   "outputs": [
    {
     "data": {
      "text/plain": [
       "Ridge(alpha=0.4)"
      ]
     },
     "execution_count": 20,
     "metadata": {},
     "output_type": "execute_result"
    }
   ],
   "source": [
    "ridge_reg = Ridge(alpha=0.4)\n",
    "ridge_reg.fit(X_train, y_train)"
   ]
  },
  {
   "cell_type": "code",
   "execution_count": 21,
   "id": "5a257c2d",
   "metadata": {},
   "outputs": [
    {
     "data": {
      "text/plain": [
       "Lasso(alpha=0.001)"
      ]
     },
     "execution_count": 21,
     "metadata": {},
     "output_type": "execute_result"
    }
   ],
   "source": [
    "lasso_reg = Lasso(alpha=0.001)\n",
    "lasso_reg.fit(X_train, y_train)"
   ]
  },
  {
   "cell_type": "code",
   "execution_count": 22,
   "id": "89631eb7",
   "metadata": {},
   "outputs": [
    {
     "data": {
      "text/plain": [
       "LinearRegression()"
      ]
     },
     "execution_count": 22,
     "metadata": {},
     "output_type": "execute_result"
    }
   ],
   "source": [
    "model = LinearRegression()\n",
    "model.fit(X_train, y_train)"
   ]
  },
  {
   "cell_type": "code",
   "execution_count": 23,
   "id": "fe4f93ee",
   "metadata": {},
   "outputs": [],
   "source": [
    "linear_model_weights = get_weights_df(model, X_train, 'Linear_Model_Weight')\n",
    "ridge_weights_df = get_weights_df(ridge_reg, X_train, 'Ridge_Weight')\n",
    "lasso_weights_df = get_weights_df(lasso_reg, X_train, 'Lasso_weight')\n",
    "\n",
    "final_weights = pd.merge(linear_model_weights, ridge_weights_df, on='Features')\n",
    "final_weights = pd.merge(final_weights, lasso_weights_df, on='Features')\n"
   ]
  },
  {
   "cell_type": "code",
   "execution_count": 24,
   "id": "169fbb57",
   "metadata": {},
   "outputs": [
    {
     "data": {
      "text/html": [
       "<div>\n",
       "<style scoped>\n",
       "    .dataframe tbody tr th:only-of-type {\n",
       "        vertical-align: middle;\n",
       "    }\n",
       "\n",
       "    .dataframe tbody tr th {\n",
       "        vertical-align: top;\n",
       "    }\n",
       "\n",
       "    .dataframe thead th {\n",
       "        text-align: right;\n",
       "    }\n",
       "</style>\n",
       "<table border=\"1\" class=\"dataframe\">\n",
       "  <thead>\n",
       "    <tr style=\"text-align: right;\">\n",
       "      <th></th>\n",
       "      <th>Features</th>\n",
       "      <th>Linear_Model_Weight</th>\n",
       "      <th>Ridge_Weight</th>\n",
       "      <th>Lasso_weight</th>\n",
       "    </tr>\n",
       "  </thead>\n",
       "  <tbody>\n",
       "    <tr>\n",
       "      <th>25</th>\n",
       "      <td>rv1</td>\n",
       "      <td>4.860175e+11</td>\n",
       "      <td>0.000744</td>\n",
       "      <td>-0.000000</td>\n",
       "    </tr>\n",
       "    <tr>\n",
       "      <th>24</th>\n",
       "      <td>RH_1</td>\n",
       "      <td>5.533850e-01</td>\n",
       "      <td>0.519502</td>\n",
       "      <td>0.017880</td>\n",
       "    </tr>\n",
       "    <tr>\n",
       "      <th>23</th>\n",
       "      <td>T3</td>\n",
       "      <td>2.906708e-01</td>\n",
       "      <td>0.288055</td>\n",
       "      <td>0.000000</td>\n",
       "    </tr>\n",
       "    <tr>\n",
       "      <th>22</th>\n",
       "      <td>T6</td>\n",
       "      <td>2.364653e-01</td>\n",
       "      <td>0.217324</td>\n",
       "      <td>0.000000</td>\n",
       "    </tr>\n",
       "    <tr>\n",
       "      <th>21</th>\n",
       "      <td>Tdewpoint</td>\n",
       "      <td>1.178543e-01</td>\n",
       "      <td>0.083261</td>\n",
       "      <td>0.000000</td>\n",
       "    </tr>\n",
       "    <tr>\n",
       "      <th>20</th>\n",
       "      <td>T8</td>\n",
       "      <td>1.020108e-01</td>\n",
       "      <td>0.101028</td>\n",
       "      <td>0.000000</td>\n",
       "    </tr>\n",
       "    <tr>\n",
       "      <th>19</th>\n",
       "      <td>RH_3</td>\n",
       "      <td>9.620445e-02</td>\n",
       "      <td>0.095173</td>\n",
       "      <td>0.000000</td>\n",
       "    </tr>\n",
       "    <tr>\n",
       "      <th>18</th>\n",
       "      <td>RH_6</td>\n",
       "      <td>3.796818e-02</td>\n",
       "      <td>0.035500</td>\n",
       "      <td>-0.000000</td>\n",
       "    </tr>\n",
       "    <tr>\n",
       "      <th>17</th>\n",
       "      <td>Windspeed</td>\n",
       "      <td>2.912338e-02</td>\n",
       "      <td>0.030262</td>\n",
       "      <td>0.002912</td>\n",
       "    </tr>\n",
       "    <tr>\n",
       "      <th>16</th>\n",
       "      <td>T4</td>\n",
       "      <td>2.890953e-02</td>\n",
       "      <td>0.027364</td>\n",
       "      <td>-0.000000</td>\n",
       "    </tr>\n",
       "    <tr>\n",
       "      <th>15</th>\n",
       "      <td>RH_4</td>\n",
       "      <td>2.631262e-02</td>\n",
       "      <td>0.024565</td>\n",
       "      <td>0.000000</td>\n",
       "    </tr>\n",
       "    <tr>\n",
       "      <th>14</th>\n",
       "      <td>RH_5</td>\n",
       "      <td>1.603522e-02</td>\n",
       "      <td>0.016154</td>\n",
       "      <td>0.000000</td>\n",
       "    </tr>\n",
       "    <tr>\n",
       "      <th>13</th>\n",
       "      <td>Visibility</td>\n",
       "      <td>1.232342e-02</td>\n",
       "      <td>0.012076</td>\n",
       "      <td>0.000000</td>\n",
       "    </tr>\n",
       "    <tr>\n",
       "      <th>12</th>\n",
       "      <td>T7</td>\n",
       "      <td>1.040564e-02</td>\n",
       "      <td>0.010126</td>\n",
       "      <td>-0.000000</td>\n",
       "    </tr>\n",
       "    <tr>\n",
       "      <th>11</th>\n",
       "      <td>Press_mm_hg</td>\n",
       "      <td>6.756384e-03</td>\n",
       "      <td>0.006578</td>\n",
       "      <td>-0.000000</td>\n",
       "    </tr>\n",
       "    <tr>\n",
       "      <th>10</th>\n",
       "      <td>T1</td>\n",
       "      <td>-3.241639e-03</td>\n",
       "      <td>-0.018372</td>\n",
       "      <td>0.000000</td>\n",
       "    </tr>\n",
       "    <tr>\n",
       "      <th>9</th>\n",
       "      <td>T5</td>\n",
       "      <td>-1.575123e-02</td>\n",
       "      <td>-0.019840</td>\n",
       "      <td>-0.000000</td>\n",
       "    </tr>\n",
       "    <tr>\n",
       "      <th>8</th>\n",
       "      <td>RH_9</td>\n",
       "      <td>-3.983974e-02</td>\n",
       "      <td>-0.041373</td>\n",
       "      <td>-0.000000</td>\n",
       "    </tr>\n",
       "    <tr>\n",
       "      <th>7</th>\n",
       "      <td>RH_7</td>\n",
       "      <td>-4.471640e-02</td>\n",
       "      <td>-0.045983</td>\n",
       "      <td>-0.000000</td>\n",
       "    </tr>\n",
       "    <tr>\n",
       "      <th>6</th>\n",
       "      <td>RH_out</td>\n",
       "      <td>-7.775711e-02</td>\n",
       "      <td>-0.054822</td>\n",
       "      <td>-0.049557</td>\n",
       "    </tr>\n",
       "    <tr>\n",
       "      <th>5</th>\n",
       "      <td>RH_8</td>\n",
       "      <td>-1.574540e-01</td>\n",
       "      <td>-0.156818</td>\n",
       "      <td>-0.000110</td>\n",
       "    </tr>\n",
       "    <tr>\n",
       "      <th>4</th>\n",
       "      <td>T9</td>\n",
       "      <td>-1.900828e-01</td>\n",
       "      <td>-0.188948</td>\n",
       "      <td>-0.000000</td>\n",
       "    </tr>\n",
       "    <tr>\n",
       "      <th>3</th>\n",
       "      <td>T2</td>\n",
       "      <td>-2.361311e-01</td>\n",
       "      <td>-0.201417</td>\n",
       "      <td>0.000000</td>\n",
       "    </tr>\n",
       "    <tr>\n",
       "      <th>2</th>\n",
       "      <td>T_out</td>\n",
       "      <td>-3.219530e-01</td>\n",
       "      <td>-0.262343</td>\n",
       "      <td>0.000000</td>\n",
       "    </tr>\n",
       "    <tr>\n",
       "      <th>1</th>\n",
       "      <td>RH_2</td>\n",
       "      <td>-4.565605e-01</td>\n",
       "      <td>-0.411048</td>\n",
       "      <td>-0.000000</td>\n",
       "    </tr>\n",
       "    <tr>\n",
       "      <th>0</th>\n",
       "      <td>rv2</td>\n",
       "      <td>-4.860175e+11</td>\n",
       "      <td>0.000744</td>\n",
       "      <td>-0.000000</td>\n",
       "    </tr>\n",
       "  </tbody>\n",
       "</table>\n",
       "</div>"
      ],
      "text/plain": [
       "       Features  Linear_Model_Weight  Ridge_Weight  Lasso_weight\n",
       "25          rv1         4.860175e+11      0.000744     -0.000000\n",
       "24         RH_1         5.533850e-01      0.519502      0.017880\n",
       "23           T3         2.906708e-01      0.288055      0.000000\n",
       "22           T6         2.364653e-01      0.217324      0.000000\n",
       "21    Tdewpoint         1.178543e-01      0.083261      0.000000\n",
       "20           T8         1.020108e-01      0.101028      0.000000\n",
       "19         RH_3         9.620445e-02      0.095173      0.000000\n",
       "18         RH_6         3.796818e-02      0.035500     -0.000000\n",
       "17    Windspeed         2.912338e-02      0.030262      0.002912\n",
       "16           T4         2.890953e-02      0.027364     -0.000000\n",
       "15         RH_4         2.631262e-02      0.024565      0.000000\n",
       "14         RH_5         1.603522e-02      0.016154      0.000000\n",
       "13   Visibility         1.232342e-02      0.012076      0.000000\n",
       "12           T7         1.040564e-02      0.010126     -0.000000\n",
       "11  Press_mm_hg         6.756384e-03      0.006578     -0.000000\n",
       "10           T1        -3.241639e-03     -0.018372      0.000000\n",
       "9            T5        -1.575123e-02     -0.019840     -0.000000\n",
       "8          RH_9        -3.983974e-02     -0.041373     -0.000000\n",
       "7          RH_7        -4.471640e-02     -0.045983     -0.000000\n",
       "6        RH_out        -7.775711e-02     -0.054822     -0.049557\n",
       "5          RH_8        -1.574540e-01     -0.156818     -0.000110\n",
       "4            T9        -1.900828e-01     -0.188948     -0.000000\n",
       "3            T2        -2.361311e-01     -0.201417      0.000000\n",
       "2         T_out        -3.219530e-01     -0.262343      0.000000\n",
       "1          RH_2        -4.565605e-01     -0.411048     -0.000000\n",
       "0           rv2        -4.860175e+11      0.000744     -0.000000"
      ]
     },
     "execution_count": 24,
     "metadata": {},
     "output_type": "execute_result"
    }
   ],
   "source": [
    "final_weights.sort_values(\"Linear_Model_Weight\", ascending=False)"
   ]
  },
  {
   "cell_type": "code",
   "execution_count": 25,
   "id": "780935cc",
   "metadata": {},
   "outputs": [],
   "source": [
    "y_pred_lg = model.predict(X_test)\n",
    "y_pred_r = ridge_reg.predict(X_test)\n",
    "y_pred_l = lasso_reg.predict(X_test)"
   ]
  },
  {
   "cell_type": "code",
   "execution_count": 26,
   "id": "1ac166c4",
   "metadata": {},
   "outputs": [
    {
     "name": "stdout",
     "output_type": "stream",
     "text": [
      "Root Mean Squared Error: 0.088\n"
     ]
    }
   ],
   "source": [
    "print(f'Root Mean Squared Error: {round(np.sqrt(mean_squared_error(y_test, y_pred_r)), 3)}')"
   ]
  },
  {
   "cell_type": "code",
   "execution_count": 27,
   "id": "fb0a94e1",
   "metadata": {},
   "outputs": [
    {
     "name": "stdout",
     "output_type": "stream",
     "text": [
      "Root Mean Squared Error: 0.094\n"
     ]
    }
   ],
   "source": [
    "print(f'Root Mean Squared Error: {round(np.sqrt(mean_squared_error(y_test, y_pred_l)), 3)}')"
   ]
  },
  {
   "cell_type": "markdown",
   "id": "e6fcc580",
   "metadata": {},
   "source": []
  }
 ],
 "metadata": {
  "kernelspec": {
   "display_name": "Python 3 (ipykernel)",
   "language": "python",
   "name": "python3"
  },
  "language_info": {
   "codemirror_mode": {
    "name": "ipython",
    "version": 3
   },
   "file_extension": ".py",
   "mimetype": "text/x-python",
   "name": "python",
   "nbconvert_exporter": "python",
   "pygments_lexer": "ipython3",
   "version": "3.9.7"
  }
 },
 "nbformat": 4,
 "nbformat_minor": 5
}

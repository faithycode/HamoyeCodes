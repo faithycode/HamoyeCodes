{
 "cells": [
  {
   "cell_type": "code",
   "execution_count": 1,
   "id": "7458c1a8",
   "metadata": {},
   "outputs": [],
   "source": [
    "import pandas as pd\n"
   ]
  },
  {
   "cell_type": "code",
   "execution_count": 6,
   "id": "8b95ce81",
   "metadata": {},
   "outputs": [],
   "source": [
    "df = pd.read_csv(\"fbs.csv\")"
   ]
  },
  {
   "cell_type": "code",
   "execution_count": 32,
   "id": "bd5af471",
   "metadata": {},
   "outputs": [
    {
     "data": {
      "text/html": [
       "<div>\n",
       "<style scoped>\n",
       "    .dataframe tbody tr th:only-of-type {\n",
       "        vertical-align: middle;\n",
       "    }\n",
       "\n",
       "    .dataframe tbody tr th {\n",
       "        vertical-align: top;\n",
       "    }\n",
       "\n",
       "    .dataframe thead th {\n",
       "        text-align: right;\n",
       "    }\n",
       "</style>\n",
       "<table border=\"1\" class=\"dataframe\">\n",
       "  <thead>\n",
       "    <tr style=\"text-align: right;\">\n",
       "      <th></th>\n",
       "      <th>Area Code</th>\n",
       "      <th>Area</th>\n",
       "      <th>Item Code</th>\n",
       "      <th>Item</th>\n",
       "      <th>Element Code</th>\n",
       "      <th>Element</th>\n",
       "      <th>Unit</th>\n",
       "      <th>Y2014</th>\n",
       "      <th>Y2015</th>\n",
       "      <th>Y2016</th>\n",
       "      <th>Y2017</th>\n",
       "      <th>Y2018</th>\n",
       "    </tr>\n",
       "  </thead>\n",
       "  <tbody>\n",
       "    <tr>\n",
       "      <th>0</th>\n",
       "      <td>4</td>\n",
       "      <td>Algeria</td>\n",
       "      <td>2501</td>\n",
       "      <td>Population</td>\n",
       "      <td>511</td>\n",
       "      <td>Total Population - Both sexes</td>\n",
       "      <td>1000 persons</td>\n",
       "      <td>38924.00</td>\n",
       "      <td>39728.00</td>\n",
       "      <td>40551.00</td>\n",
       "      <td>41389.00</td>\n",
       "      <td>42228.00</td>\n",
       "    </tr>\n",
       "    <tr>\n",
       "      <th>1</th>\n",
       "      <td>4</td>\n",
       "      <td>Algeria</td>\n",
       "      <td>2501</td>\n",
       "      <td>Population</td>\n",
       "      <td>5301</td>\n",
       "      <td>Domestic supply quantity</td>\n",
       "      <td>1000 tonnes</td>\n",
       "      <td>0.00</td>\n",
       "      <td>0.00</td>\n",
       "      <td>0.00</td>\n",
       "      <td>0.00</td>\n",
       "      <td>0.00</td>\n",
       "    </tr>\n",
       "    <tr>\n",
       "      <th>2</th>\n",
       "      <td>4</td>\n",
       "      <td>Algeria</td>\n",
       "      <td>2901</td>\n",
       "      <td>Grand Total</td>\n",
       "      <td>664</td>\n",
       "      <td>Food supply (kcal/capita/day)</td>\n",
       "      <td>kcal/capita/day</td>\n",
       "      <td>3377.00</td>\n",
       "      <td>3379.00</td>\n",
       "      <td>3372.00</td>\n",
       "      <td>3341.00</td>\n",
       "      <td>3322.00</td>\n",
       "    </tr>\n",
       "    <tr>\n",
       "      <th>3</th>\n",
       "      <td>4</td>\n",
       "      <td>Algeria</td>\n",
       "      <td>2901</td>\n",
       "      <td>Grand Total</td>\n",
       "      <td>674</td>\n",
       "      <td>Protein supply quantity (g/capita/day)</td>\n",
       "      <td>g/capita/day</td>\n",
       "      <td>94.90</td>\n",
       "      <td>94.35</td>\n",
       "      <td>94.72</td>\n",
       "      <td>92.82</td>\n",
       "      <td>91.83</td>\n",
       "    </tr>\n",
       "    <tr>\n",
       "      <th>4</th>\n",
       "      <td>4</td>\n",
       "      <td>Algeria</td>\n",
       "      <td>2901</td>\n",
       "      <td>Grand Total</td>\n",
       "      <td>684</td>\n",
       "      <td>Fat supply quantity (g/capita/day)</td>\n",
       "      <td>g/capita/day</td>\n",
       "      <td>80.06</td>\n",
       "      <td>79.36</td>\n",
       "      <td>77.40</td>\n",
       "      <td>80.19</td>\n",
       "      <td>77.28</td>\n",
       "    </tr>\n",
       "    <tr>\n",
       "      <th>...</th>\n",
       "      <td>...</td>\n",
       "      <td>...</td>\n",
       "      <td>...</td>\n",
       "      <td>...</td>\n",
       "      <td>...</td>\n",
       "      <td>...</td>\n",
       "      <td>...</td>\n",
       "      <td>...</td>\n",
       "      <td>...</td>\n",
       "      <td>...</td>\n",
       "      <td>...</td>\n",
       "      <td>...</td>\n",
       "    </tr>\n",
       "    <tr>\n",
       "      <th>60938</th>\n",
       "      <td>181</td>\n",
       "      <td>Zimbabwe</td>\n",
       "      <td>2899</td>\n",
       "      <td>Miscellaneous</td>\n",
       "      <td>5142</td>\n",
       "      <td>Food</td>\n",
       "      <td>1000 tonnes</td>\n",
       "      <td>42.00</td>\n",
       "      <td>46.00</td>\n",
       "      <td>33.00</td>\n",
       "      <td>19.00</td>\n",
       "      <td>16.00</td>\n",
       "    </tr>\n",
       "    <tr>\n",
       "      <th>60939</th>\n",
       "      <td>181</td>\n",
       "      <td>Zimbabwe</td>\n",
       "      <td>2899</td>\n",
       "      <td>Miscellaneous</td>\n",
       "      <td>645</td>\n",
       "      <td>Food supply quantity (kg/capita/yr)</td>\n",
       "      <td>kg</td>\n",
       "      <td>3.06</td>\n",
       "      <td>3.33</td>\n",
       "      <td>2.35</td>\n",
       "      <td>1.33</td>\n",
       "      <td>1.08</td>\n",
       "    </tr>\n",
       "    <tr>\n",
       "      <th>60940</th>\n",
       "      <td>181</td>\n",
       "      <td>Zimbabwe</td>\n",
       "      <td>2899</td>\n",
       "      <td>Miscellaneous</td>\n",
       "      <td>664</td>\n",
       "      <td>Food supply (kcal/capita/day)</td>\n",
       "      <td>kcal/capita/day</td>\n",
       "      <td>3.00</td>\n",
       "      <td>4.00</td>\n",
       "      <td>3.00</td>\n",
       "      <td>1.00</td>\n",
       "      <td>1.00</td>\n",
       "    </tr>\n",
       "    <tr>\n",
       "      <th>60941</th>\n",
       "      <td>181</td>\n",
       "      <td>Zimbabwe</td>\n",
       "      <td>2899</td>\n",
       "      <td>Miscellaneous</td>\n",
       "      <td>674</td>\n",
       "      <td>Protein supply quantity (g/capita/day)</td>\n",
       "      <td>g/capita/day</td>\n",
       "      <td>0.10</td>\n",
       "      <td>0.11</td>\n",
       "      <td>0.08</td>\n",
       "      <td>0.04</td>\n",
       "      <td>0.04</td>\n",
       "    </tr>\n",
       "    <tr>\n",
       "      <th>60942</th>\n",
       "      <td>181</td>\n",
       "      <td>Zimbabwe</td>\n",
       "      <td>2899</td>\n",
       "      <td>Miscellaneous</td>\n",
       "      <td>684</td>\n",
       "      <td>Fat supply quantity (g/capita/day)</td>\n",
       "      <td>g/capita/day</td>\n",
       "      <td>0.04</td>\n",
       "      <td>0.05</td>\n",
       "      <td>0.03</td>\n",
       "      <td>0.02</td>\n",
       "      <td>0.01</td>\n",
       "    </tr>\n",
       "  </tbody>\n",
       "</table>\n",
       "<p>60943 rows × 12 columns</p>\n",
       "</div>"
      ],
      "text/plain": [
       "       Area Code      Area  Item Code           Item  Element Code  \\\n",
       "0              4   Algeria       2501     Population           511   \n",
       "1              4   Algeria       2501     Population          5301   \n",
       "2              4   Algeria       2901    Grand Total           664   \n",
       "3              4   Algeria       2901    Grand Total           674   \n",
       "4              4   Algeria       2901    Grand Total           684   \n",
       "...          ...       ...        ...            ...           ...   \n",
       "60938        181  Zimbabwe       2899  Miscellaneous          5142   \n",
       "60939        181  Zimbabwe       2899  Miscellaneous           645   \n",
       "60940        181  Zimbabwe       2899  Miscellaneous           664   \n",
       "60941        181  Zimbabwe       2899  Miscellaneous           674   \n",
       "60942        181  Zimbabwe       2899  Miscellaneous           684   \n",
       "\n",
       "                                      Element             Unit     Y2014  \\\n",
       "0               Total Population - Both sexes     1000 persons  38924.00   \n",
       "1                    Domestic supply quantity      1000 tonnes      0.00   \n",
       "2               Food supply (kcal/capita/day)  kcal/capita/day   3377.00   \n",
       "3      Protein supply quantity (g/capita/day)     g/capita/day     94.90   \n",
       "4          Fat supply quantity (g/capita/day)     g/capita/day     80.06   \n",
       "...                                       ...              ...       ...   \n",
       "60938                                    Food      1000 tonnes     42.00   \n",
       "60939     Food supply quantity (kg/capita/yr)               kg      3.06   \n",
       "60940           Food supply (kcal/capita/day)  kcal/capita/day      3.00   \n",
       "60941  Protein supply quantity (g/capita/day)     g/capita/day      0.10   \n",
       "60942      Fat supply quantity (g/capita/day)     g/capita/day      0.04   \n",
       "\n",
       "          Y2015     Y2016     Y2017     Y2018  \n",
       "0      39728.00  40551.00  41389.00  42228.00  \n",
       "1          0.00      0.00      0.00      0.00  \n",
       "2       3379.00   3372.00   3341.00   3322.00  \n",
       "3         94.35     94.72     92.82     91.83  \n",
       "4         79.36     77.40     80.19     77.28  \n",
       "...         ...       ...       ...       ...  \n",
       "60938     46.00     33.00     19.00     16.00  \n",
       "60939      3.33      2.35      1.33      1.08  \n",
       "60940      4.00      3.00      1.00      1.00  \n",
       "60941      0.11      0.08      0.04      0.04  \n",
       "60942      0.05      0.03      0.02      0.01  \n",
       "\n",
       "[60943 rows x 12 columns]"
      ]
     },
     "execution_count": 32,
     "metadata": {},
     "output_type": "execute_result"
    }
   ],
   "source": [
    "df"
   ]
  },
  {
   "cell_type": "code",
   "execution_count": 38,
   "id": "cd417d4d",
   "metadata": {},
   "outputs": [
    {
     "data": {
      "text/plain": [
       "Item\n",
       "Alcohol, Non-Food        2403.00\n",
       "Alcoholic Beverages    102410.11\n",
       "Animal Products         11935.65\n",
       "Animal fats            209460.54\n",
       "Apples and products      9499.23\n",
       "                         ...    \n",
       "Vegetables, Other      155038.96\n",
       "Vegetal Products       107145.19\n",
       "Wheat and products     232670.13\n",
       "Wine                     4497.36\n",
       "Yams                   200396.96\n",
       "Name: Y2014, Length: 119, dtype: float64"
      ]
     },
     "execution_count": 38,
     "metadata": {},
     "output_type": "execute_result"
    }
   ],
   "source": [
    "df.groupby('Item')['Y2014'].sum()\n"
   ]
  },
  {
   "cell_type": "code",
   "execution_count": 39,
   "id": "df7e28d5",
   "metadata": {},
   "outputs": [
    {
     "data": {
      "text/plain": [
       "Item\n",
       "Alcohol, Non-Food        2348.00\n",
       "Alcoholic Beverages     95581.06\n",
       "Animal Products         11547.65\n",
       "Animal fats            269617.53\n",
       "Apples and products     10198.90\n",
       "                         ...    \n",
       "Vegetables, Other      157752.59\n",
       "Vegetal Products       107655.20\n",
       "Wheat and products     240047.62\n",
       "Wine                     4178.02\n",
       "Yams                   229174.59\n",
       "Name: Y2017, Length: 119, dtype: float64"
      ]
     },
     "execution_count": 39,
     "metadata": {},
     "output_type": "execute_result"
    }
   ],
   "source": [
    "df.groupby('Item')['Y2017'].sum()"
   ]
  },
  {
   "cell_type": "code",
   "execution_count": 27,
   "id": "a89ca904",
   "metadata": {},
   "outputs": [
    {
     "name": "stdout",
     "output_type": "stream",
     "text": [
      "135.23596649549236\n"
     ]
    }
   ],
   "source": [
    "column_name = \"Y2015\"\n",
    "print (df[column_name].mean())"
   ]
  },
  {
   "cell_type": "code",
   "execution_count": 28,
   "id": "41ab343b",
   "metadata": {},
   "outputs": [
    {
     "name": "stdout",
     "output_type": "stream",
     "text": [
      "1603.4039839423301\n"
     ]
    }
   ],
   "source": [
    "column_name = \"Y2015\"\n",
    "print (df[column_name].std())"
   ]
  },
  {
   "cell_type": "code",
   "execution_count": 70,
   "id": "efb3397a",
   "metadata": {},
   "outputs": [
    {
     "name": "stdout",
     "output_type": "stream",
     "text": [
      "1535\n",
      "2.518747025909456\n"
     ]
    }
   ],
   "source": [
    "column_name = \"Y2016\"\n",
    "\n",
    "print (df[column_name].isnull().sum())\n",
    "print (df[column_name].isnull().sum() * 100 / len(df))\n"
   ]
  },
  {
   "cell_type": "code",
   "execution_count": 74,
   "id": "d5eb6881",
   "metadata": {},
   "outputs": [
    {
     "name": "stdout",
     "output_type": "stream",
     "text": [
      "Area Code     Element Code    0.000209\n",
      "Element Code  Area Code       0.000209\n",
      "Area Code     Y2017           0.005006\n",
      "Y2017         Area Code       0.005006\n",
      "Area Code     Item Code       0.005159\n",
      "                                ...   \n",
      "Y2014         Y2014           1.000000\n",
      "Element Code  Element Code    1.000000\n",
      "Item Code     Item Code       1.000000\n",
      "Y2017         Y2017           1.000000\n",
      "Y2018         Y2018           1.000000\n",
      "Length: 64, dtype: float64\n"
     ]
    }
   ],
   "source": [
    "c = df.corr().abs()\n",
    "\n",
    "s = c.unstack()\n",
    "so = s.sort_values(kind=\"quicksort\")\n",
    "print (so)"
   ]
  },
  {
   "cell_type": "code",
   "execution_count": 78,
   "id": "604f14ca",
   "metadata": {},
   "outputs": [
    {
     "data": {
      "text/plain": [
       "Element\n",
       "Domestic supply quantity                  1996716.35\n",
       "Export Quantity                            150020.64\n",
       "Fat supply quantity (g/capita/day)          10225.56\n",
       "Feed                                       216927.89\n",
       "Food                                      1212332.49\n",
       "Food supply (kcal/capita/day)              454257.00\n",
       "Food supply quantity (kg/capita/yr)         49650.63\n",
       "Import Quantity                            274144.48\n",
       "Losses                                     153223.00\n",
       "Other uses (non-food)                       78718.13\n",
       "Processing                                 282923.00\n",
       "Production                                1931287.75\n",
       "Protein supply quantity (g/capita/day)      11836.46\n",
       "Residuals                                   30149.00\n",
       "Seed                                        21922.92\n",
       "Stock Variation                             58749.83\n",
       "Total Population - Both sexes             1031585.00\n",
       "Tourist consumption                           416.00\n",
       "Name: Y2014, dtype: float64"
      ]
     },
     "execution_count": 78,
     "metadata": {},
     "output_type": "execute_result"
    }
   ],
   "source": [
    "df.groupby('Element')['Y2014'].sum()"
   ]
  },
  {
   "cell_type": "code",
   "execution_count": 79,
   "id": "dd4bf5b5",
   "metadata": {},
   "outputs": [
    {
     "data": {
      "text/plain": [
       "Element\n",
       "Domestic supply quantity                  2021493.55\n",
       "Export Quantity                            157614.47\n",
       "Fat supply quantity (g/capita/day)          10235.74\n",
       "Feed                                       225050.22\n",
       "Food                                      1232361.10\n",
       "Food supply (kcal/capita/day)              453383.00\n",
       "Food supply quantity (kg/capita/yr)         49345.13\n",
       "Import Quantity                            267018.46\n",
       "Losses                                     155439.00\n",
       "Other uses (non-food)                       66254.41\n",
       "Processing                                 287929.00\n",
       "Production                                1947019.39\n",
       "Protein supply quantity (g/capita/day)      11833.95\n",
       "Residuals                                   30045.00\n",
       "Seed                                        23976.82\n",
       "Stock Variation                             34910.99\n",
       "Total Population - Both sexes             1058081.00\n",
       "Tourist consumption                           349.00\n",
       "Name: Y2015, dtype: float64"
      ]
     },
     "execution_count": 79,
     "metadata": {},
     "output_type": "execute_result"
    }
   ],
   "source": [
    "df.groupby('Element')['Y2015'].sum()"
   ]
  },
  {
   "cell_type": "code",
   "execution_count": 80,
   "id": "63c701e0",
   "metadata": {},
   "outputs": [
    {
     "data": {
      "text/plain": [
       "Element\n",
       "Domestic supply quantity                  2044842.70\n",
       "Export Quantity                            151920.46\n",
       "Fat supply quantity (g/capita/day)          10102.77\n",
       "Feed                                       228958.65\n",
       "Food                                      1247022.17\n",
       "Food supply (kcal/capita/day)              451810.00\n",
       "Food supply quantity (kg/capita/yr)         48985.28\n",
       "Import Quantity                            286582.78\n",
       "Losses                                     157787.00\n",
       "Other uses (non-food)                       69563.68\n",
       "Processing                                 280631.00\n",
       "Production                                1943537.15\n",
       "Protein supply quantity (g/capita/day)      11779.69\n",
       "Residuals                                   37224.00\n",
       "Seed                                        23389.20\n",
       "Stock Variation                             33140.12\n",
       "Total Population - Both sexes             1085107.00\n",
       "Tourist consumption                            89.00\n",
       "Name: Y2016, dtype: float64"
      ]
     },
     "execution_count": 80,
     "metadata": {},
     "output_type": "execute_result"
    }
   ],
   "source": [
    "df.groupby('Element')['Y2016'].sum()"
   ]
  },
  {
   "cell_type": "code",
   "execution_count": 81,
   "id": "703d01f5",
   "metadata": {},
   "outputs": [
    {
     "data": {
      "text/plain": [
       "Element\n",
       "Domestic supply quantity                  2088198.10\n",
       "Export Quantity                            182338.80\n",
       "Fat supply quantity (g/capita/day)          10253.84\n",
       "Feed                                       223705.68\n",
       "Food                                      1258888.28\n",
       "Food supply (kcal/capita/day)              454681.00\n",
       "Food supply quantity (kg/capita/yr)         48690.04\n",
       "Import Quantity                            294559.09\n",
       "Losses                                     160614.00\n",
       "Other uses (non-food)                       91645.97\n",
       "Processing                                 292836.00\n",
       "Production                                2030056.89\n",
       "Protein supply quantity (g/capita/day)      11842.45\n",
       "Residuals                                   35500.00\n",
       "Seed                                        24870.14\n",
       "Stock Variation                             54316.91\n",
       "Total Population - Both sexes             1112641.00\n",
       "Tourist consumption                            91.00\n",
       "Name: Y2017, dtype: float64"
      ]
     },
     "execution_count": 81,
     "metadata": {},
     "output_type": "execute_result"
    }
   ],
   "source": [
    "df.groupby('Element')['Y2017'].sum()"
   ]
  },
  {
   "cell_type": "code",
   "execution_count": 82,
   "id": "1428bebd",
   "metadata": {},
   "outputs": [
    {
     "data": {
      "text/plain": [
       "Element\n",
       "Domestic supply quantity                  2161192.10\n",
       "Export Quantity                            181594.80\n",
       "Fat supply quantity (g/capita/day)          10258.69\n",
       "Feed                                       233489.68\n",
       "Food                                      1303841.28\n",
       "Food supply (kcal/capita/day)              455261.00\n",
       "Food supply quantity (kg/capita/yr)         49056.85\n",
       "Import Quantity                            287997.09\n",
       "Losses                                     163902.00\n",
       "Other uses (non-food)                       91300.97\n",
       "Processing                                 308429.00\n",
       "Production                                2075072.89\n",
       "Protein supply quantity (g/capita/day)      11833.56\n",
       "Residuals                                   34864.00\n",
       "Seed                                        25263.14\n",
       "Stock Variation                             20577.91\n",
       "Total Population - Both sexes             1140605.00\n",
       "Tourist consumption                            90.00\n",
       "Name: Y2018, dtype: float64"
      ]
     },
     "execution_count": 82,
     "metadata": {},
     "output_type": "execute_result"
    }
   ],
   "source": [
    "df.groupby('Element')['Y2018'].sum()"
   ]
  },
  {
   "cell_type": "code",
   "execution_count": 92,
   "id": "c9809825",
   "metadata": {},
   "outputs": [
    {
     "data": {
      "text/plain": [
       "Area\n",
       "Algeria                         341729.98\n",
       "Angola                          235206.68\n",
       "Benin                           124960.70\n",
       "Botswana                         23129.08\n",
       "Burkina Faso                    112970.72\n",
       "Cabo Verde                       14622.60\n",
       "Cameroon                        233022.93\n",
       "Central African Republic         30101.57\n",
       "Chad                             72282.24\n",
       "Comoros                             59.84\n",
       "Congo                            42005.53\n",
       "C�te d'Ivoire                   227018.00\n",
       "Djibouti                         23718.96\n",
       "Egypt                           852652.92\n",
       "Eswatini                         55045.07\n",
       "Ethiopia                        450788.86\n",
       "Ethiopia PDR                         0.00\n",
       "Gabon                            28339.38\n",
       "Gambia                           23513.80\n",
       "Ghana                           358915.64\n",
       "Guinea                          103262.08\n",
       "Guinea-Bissau                    18997.92\n",
       "Kenya                           270916.80\n",
       "Lesotho                          19109.23\n",
       "Liberia                          29629.83\n",
       "Madagascar                      134576.44\n",
       "Malawi                          187366.09\n",
       "Mali                            159026.42\n",
       "Mauritania                      157479.95\n",
       "Mauritius                        47150.91\n",
       "Morocco                         399271.27\n",
       "Mozambique                      164934.05\n",
       "Namibia                          29350.04\n",
       "Niger                           133982.86\n",
       "Nigeria                        1499774.24\n",
       "Rwanda                           74839.08\n",
       "Sao Tome and Principe            12806.49\n",
       "Senegal                          95493.82\n",
       "Seychelles                         442.34\n",
       "Sierra Leone                     55981.73\n",
       "South Africa                    509787.97\n",
       "Sudan                           268054.39\n",
       "Sudan (former)                       0.00\n",
       "Togo                             54872.00\n",
       "Tunisia                         127343.17\n",
       "Uganda                          222147.25\n",
       "United Republic of Tanzania     349763.41\n",
       "Zambia                          101604.27\n",
       "Zimbabwe                         76581.41\n",
       "Name: Y2018, dtype: float64"
      ]
     },
     "execution_count": 92,
     "metadata": {},
     "output_type": "execute_result"
    }
   ],
   "source": [
    "df.groupby('Area')['Y2018'].sum()"
   ]
  },
  {
   "cell_type": "code",
   "execution_count": 93,
   "id": "663fa6fb",
   "metadata": {},
   "outputs": [
    {
     "ename": "TypeError",
     "evalue": "'tuple' object does not support item assignment",
     "output_type": "error",
     "traceback": [
      "\u001b[1;31m---------------------------------------------------------------------------\u001b[0m",
      "\u001b[1;31mTypeError\u001b[0m                                 Traceback (most recent call last)",
      "\u001b[1;32m<ipython-input-93-ce1543b3be47>\u001b[0m in \u001b[0;36m<module>\u001b[1;34m\u001b[0m\n\u001b[0;32m      1\u001b[0m \u001b[0mmy_tuppy\u001b[0m \u001b[1;33m=\u001b[0m \u001b[1;33m(\u001b[0m\u001b[1;36m1\u001b[0m\u001b[1;33m,\u001b[0m\u001b[1;36m2\u001b[0m\u001b[1;33m,\u001b[0m\u001b[1;36m5\u001b[0m\u001b[1;33m,\u001b[0m\u001b[1;36m8\u001b[0m\u001b[1;33m)\u001b[0m\u001b[1;33m\u001b[0m\u001b[1;33m\u001b[0m\u001b[0m\n\u001b[0;32m      2\u001b[0m \u001b[1;33m\u001b[0m\u001b[0m\n\u001b[1;32m----> 3\u001b[1;33m \u001b[0mmy_tuppy\u001b[0m\u001b[1;33m[\u001b[0m\u001b[1;36m2\u001b[0m\u001b[1;33m]\u001b[0m \u001b[1;33m=\u001b[0m \u001b[1;36m6\u001b[0m\u001b[1;33m\u001b[0m\u001b[1;33m\u001b[0m\u001b[0m\n\u001b[0m",
      "\u001b[1;31mTypeError\u001b[0m: 'tuple' object does not support item assignment"
     ]
    }
   ],
   "source": [
    "my_tuppy = (1,2,5,8)\n",
    "\n",
    "my_tuppy[2] = 6"
   ]
  },
  {
   "cell_type": "code",
   "execution_count": null,
   "id": "c9b9aec4",
   "metadata": {},
   "outputs": [],
   "source": []
  }
 ],
 "metadata": {
  "kernelspec": {
   "display_name": "Python 3",
   "language": "python",
   "name": "python3"
  },
  "language_info": {
   "codemirror_mode": {
    "name": "ipython",
    "version": 3
   },
   "file_extension": ".py",
   "mimetype": "text/x-python",
   "name": "python",
   "nbconvert_exporter": "python",
   "pygments_lexer": "ipython3",
   "version": "3.8.8"
  }
 },
 "nbformat": 4,
 "nbformat_minor": 5
}
